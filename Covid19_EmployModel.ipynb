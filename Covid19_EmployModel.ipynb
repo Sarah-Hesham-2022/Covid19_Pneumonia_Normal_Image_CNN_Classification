{
  "nbformat": 4,
  "nbformat_minor": 0,
  "metadata": {
    "colab": {
      "provenance": [],
      "collapsed_sections": []
    },
    "kernelspec": {
      "name": "python3",
      "display_name": "Python 3"
    },
    "language_info": {
      "name": "python"
    }
  },
  "cells": [
    {
      "cell_type": "code",
      "execution_count": 71,
      "metadata": {
        "colab": {
          "base_uri": "https://localhost:8080/"
        },
        "id": "lo9L9b7h-_Lk",
        "outputId": "c35c06fb-c9e4-41b8-811f-027064e27443"
      },
      "outputs": [
        {
          "output_type": "stream",
          "name": "stdout",
          "text": [
            "Drive already mounted at /content/drive; to attempt to forcibly remount, call drive.mount(\"/content/drive\", force_remount=True).\n"
          ]
        }
      ],
      "source": [
        "import keras\n",
        "from keras.models import *\n",
        "from keras.layers import *\n",
        "from keras.preprocessing import image\n",
        "import PIL\n",
        "from google.colab import drive\n",
        "drive.mount('/content/drive')\n",
        "from keras.models import load_model\n",
        "model=load_model(\"/content/drive/MyDrive/H5_Folders/Covid19_CNN.h5\")"
      ]
    },
    {
      "cell_type": "code",
      "source": [
        "import cv2\n",
        "from numpy import asarray\n",
        "img =cv2.imread(\"/content/sample_data/Normal-10151.png\",0)\n",
        "img"
      ],
      "metadata": {
        "colab": {
          "base_uri": "https://localhost:8080/"
        },
        "id": "fq7rgCtY_UEX",
        "outputId": "f9df9f0a-6b78-41c3-8a0c-8bdd88c7e8cf"
      },
      "execution_count": 404,
      "outputs": [
        {
          "output_type": "execute_result",
          "data": {
            "text/plain": [
              "array([[250, 206, 151, ..., 159, 169, 163],\n",
              "       [209, 156, 106, ...,  81,  94,  96],\n",
              "       [160, 110,  67, ...,  32,  43,  46],\n",
              "       ...,\n",
              "       [ 30,  20,  13, ...,  11,  10,   7],\n",
              "       [ 31,  21,  13, ...,  11,  11,   8],\n",
              "       [ 33,  23,  16, ...,  11,  11,   8]], dtype=uint8)"
            ]
          },
          "metadata": {},
          "execution_count": 404
        }
      ]
    },
    {
      "cell_type": "code",
      "source": [
        "# importing cv2 \n",
        "import numpy as np\n",
        "img=cv2.resize(img, (100, 100)) \n",
        "img=np.array(img).astype(np.uint8)"
      ],
      "metadata": {
        "id": "ew5VSwrPGxCF"
      },
      "execution_count": 405,
      "outputs": []
    },
    {
      "cell_type": "code",
      "source": [
        "img=image.img_to_array(img)\n",
        "img.shape"
      ],
      "metadata": {
        "colab": {
          "base_uri": "https://localhost:8080/"
        },
        "id": "rMlEt18Y_mRo",
        "outputId": "c70bdfdf-e20b-486f-e247-51512581dd15"
      },
      "execution_count": 406,
      "outputs": [
        {
          "output_type": "execute_result",
          "data": {
            "text/plain": [
              "(100, 100, 1)"
            ]
          },
          "metadata": {},
          "execution_count": 406
        }
      ]
    },
    {
      "cell_type": "code",
      "source": [
        "img=img/255.0\n",
        "img_expand=np.expand_dims(img,axis=0)#img.reshape(1,img.shape[0],img.shape[1],img.shape[2])\n",
        "img_expand.shape"
      ],
      "metadata": {
        "colab": {
          "base_uri": "https://localhost:8080/"
        },
        "id": "ns-Snkke_sZF",
        "outputId": "cc82695d-db08-499b-d55f-8dd744a989ca"
      },
      "execution_count": 407,
      "outputs": [
        {
          "output_type": "execute_result",
          "data": {
            "text/plain": [
              "(1, 100, 100, 1)"
            ]
          },
          "metadata": {},
          "execution_count": 407
        }
      ]
    },
    {
      "cell_type": "code",
      "source": [
        "y_pred_img=model.predict(img_expand)\n",
        "print(y_pred_img)"
      ],
      "metadata": {
        "colab": {
          "base_uri": "https://localhost:8080/"
        },
        "id": "cU-xBzaI_zMC",
        "outputId": "b856799b-e78a-48cf-8c07-83c73bfcd31d"
      },
      "execution_count": 408,
      "outputs": [
        {
          "output_type": "stream",
          "name": "stdout",
          "text": [
            "[[0.14366569 0.6278308  0.22850353]]\n"
          ]
        }
      ]
    },
    {
      "cell_type": "code",
      "source": [
        "max_value=y_pred_img[0].max()\n",
        "if(max_value == y_pred_img[0][0]):\n",
        "  print(\"Covid\")\n",
        "elif(max_value == y_pred_img[0][1]):\n",
        "  print(\"Normal\")\n",
        "else:\n",
        "  print(\"Pneumonia\")"
      ],
      "metadata": {
        "colab": {
          "base_uri": "https://localhost:8080/"
        },
        "id": "NaoXea0tPBrl",
        "outputId": "9922ec65-fb3f-430b-9eaf-2c129c0dd990"
      },
      "execution_count": 409,
      "outputs": [
        {
          "output_type": "stream",
          "name": "stdout",
          "text": [
            "Normal\n"
          ]
        }
      ]
    }
  ]
}